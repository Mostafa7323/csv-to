{
 "cells": [
  {
   "cell_type": "code",
   "execution_count": 1,
   "id": "539796ba-33fc-4655-868e-adb9f703e71a",
   "metadata": {},
   "outputs": [],
   "source": [
    "import pandas as pd\n",
    "df = pd.read_csv(\"bi.csv\", encoding=\"latin1\")  \n",
    "df.to_csv(\"bi_utf8.csv\", index=False, encoding=\"utf-8\")\n"
   ]
  },
  {
   "cell_type": "code",
   "execution_count": 2,
   "id": "c5e338c7-baf8-48fe-9832-e40f4b9bc910",
   "metadata": {},
   "outputs": [
    {
     "name": "stdout",
     "output_type": "stream",
     "text": [
      "       fNAME      lNAME  Age  gender       country  residence  entryEXAM  \\\n",
      "0  Christina     Binger   44  Female        Norway    Private         72   \n",
      "1       Alex   Walekhwa   60       M         Kenya    Private         79   \n",
      "2     Philip        Leo   25    Male        Uganda  Sognsvann         55   \n",
      "3      Shoni  Hlongwane   22       F           Rsa  Sognsvann         40   \n",
      "4      Maria   Kedibone   23  Female  South Africa  Sognsvann         65   \n",
      "\n",
      "  prevEducation  studyHOURS  Python  DB  \n",
      "0       Masters         158    59.0  55  \n",
      "1       Diploma         150    60.0  75  \n",
      "2    HighSchool         130    74.0  50  \n",
      "3   High School         120     NaN  44  \n",
      "4   High School         122    91.0  80  \n"
     ]
    }
   ],
   "source": [
    "print(df.head())"
   ]
  },
  {
   "cell_type": "code",
   "execution_count": 23,
   "id": "f4cbe357-0aca-4688-b165-195922827c4d",
   "metadata": {},
   "outputs": [
    {
     "name": "stdout",
     "output_type": "stream",
     "text": [
      "fNAME             object\n",
      "lNAME             object\n",
      "Age                int64\n",
      "gender            object\n",
      "country           object\n",
      "residence         object\n",
      "entryEXAM          int64\n",
      "prevEducation     object\n",
      "studyHOURS         int64\n",
      "Python           float64\n",
      "DB                 int64\n",
      "dtype: object\n"
     ]
    }
   ],
   "source": [
    "print(df.dtypes)"
   ]
  },
  {
   "cell_type": "code",
   "execution_count": 16,
   "id": "7f0293fe-bc1d-408a-bc70-94384fda0032",
   "metadata": {},
   "outputs": [
    {
     "name": "stdout",
     "output_type": "stream",
     "text": [
      "Index(['fNAME', 'lNAME', 'Age', 'gender', 'country', 'residence', 'entryEXAM',\n",
      "       'prevEducation', 'studyHOURS', 'Python', 'DB'],\n",
      "      dtype='object')\n"
     ]
    }
   ],
   "source": [
    "print(df.columns)"
   ]
  },
  {
   "cell_type": "code",
   "execution_count": 3,
   "id": "52a8a78b-2554-4d9e-810a-61804b7bf04c",
   "metadata": {},
   "outputs": [
    {
     "name": "stdout",
     "output_type": "stream",
     "text": [
      "(77, 11)\n"
     ]
    }
   ],
   "source": [
    "print (df.shape)"
   ]
  },
  {
   "cell_type": "code",
   "execution_count": 4,
   "id": "99285249-0968-4080-a52e-b86a4508c67a",
   "metadata": {},
   "outputs": [
    {
     "name": "stdout",
     "output_type": "stream",
     "text": [
      "<class 'pandas.core.frame.DataFrame'>\n",
      "RangeIndex: 77 entries, 0 to 76\n",
      "Data columns (total 11 columns):\n",
      " #   Column         Non-Null Count  Dtype  \n",
      "---  ------         --------------  -----  \n",
      " 0   fNAME          77 non-null     object \n",
      " 1   lNAME          77 non-null     object \n",
      " 2   Age            77 non-null     int64  \n",
      " 3   gender         77 non-null     object \n",
      " 4   country        77 non-null     object \n",
      " 5   residence      77 non-null     object \n",
      " 6   entryEXAM      77 non-null     int64  \n",
      " 7   prevEducation  77 non-null     object \n",
      " 8   studyHOURS     77 non-null     int64  \n",
      " 9   Python         75 non-null     float64\n",
      " 10  DB             77 non-null     int64  \n",
      "dtypes: float64(1), int64(4), object(6)\n",
      "memory usage: 6.7+ KB\n"
     ]
    }
   ],
   "source": [
    "df.info()"
   ]
  },
  {
   "cell_type": "code",
   "execution_count": 5,
   "id": "6b1e87ba-c2e2-4d4a-b49b-dba895309b55",
   "metadata": {},
   "outputs": [
    {
     "data": {
      "text/html": [
       "<div>\n",
       "<style scoped>\n",
       "    .dataframe tbody tr th:only-of-type {\n",
       "        vertical-align: middle;\n",
       "    }\n",
       "\n",
       "    .dataframe tbody tr th {\n",
       "        vertical-align: top;\n",
       "    }\n",
       "\n",
       "    .dataframe thead th {\n",
       "        text-align: right;\n",
       "    }\n",
       "</style>\n",
       "<table border=\"1\" class=\"dataframe\">\n",
       "  <thead>\n",
       "    <tr style=\"text-align: right;\">\n",
       "      <th></th>\n",
       "      <th>fNAME</th>\n",
       "      <th>lNAME</th>\n",
       "      <th>Age</th>\n",
       "      <th>gender</th>\n",
       "      <th>country</th>\n",
       "      <th>residence</th>\n",
       "      <th>entryEXAM</th>\n",
       "      <th>prevEducation</th>\n",
       "      <th>studyHOURS</th>\n",
       "      <th>Python</th>\n",
       "      <th>DB</th>\n",
       "    </tr>\n",
       "  </thead>\n",
       "  <tbody>\n",
       "    <tr>\n",
       "      <th>72</th>\n",
       "      <td>Clara</td>\n",
       "      <td>Bernard</td>\n",
       "      <td>43</td>\n",
       "      <td>Female</td>\n",
       "      <td>France</td>\n",
       "      <td>Private</td>\n",
       "      <td>80</td>\n",
       "      <td>Bachelors</td>\n",
       "      <td>150</td>\n",
       "      <td>75.0</td>\n",
       "      <td>43</td>\n",
       "    </tr>\n",
       "    <tr>\n",
       "      <th>73</th>\n",
       "      <td>Julian</td>\n",
       "      <td>Nielsen</td>\n",
       "      <td>31</td>\n",
       "      <td>Male</td>\n",
       "      <td>Denmark</td>\n",
       "      <td>Sognsvann</td>\n",
       "      <td>90</td>\n",
       "      <td>Masters</td>\n",
       "      <td>158</td>\n",
       "      <td>84.0</td>\n",
       "      <td>83</td>\n",
       "    </tr>\n",
       "    <tr>\n",
       "      <th>74</th>\n",
       "      <td>Sophie</td>\n",
       "      <td>Brown</td>\n",
       "      <td>33</td>\n",
       "      <td>Female</td>\n",
       "      <td>UK</td>\n",
       "      <td>Sognsvann</td>\n",
       "      <td>96</td>\n",
       "      <td>Masters</td>\n",
       "      <td>158</td>\n",
       "      <td>85.0</td>\n",
       "      <td>90</td>\n",
       "    </tr>\n",
       "    <tr>\n",
       "      <th>75</th>\n",
       "      <td>Leon</td>\n",
       "      <td>Bauer</td>\n",
       "      <td>35</td>\n",
       "      <td>Male</td>\n",
       "      <td>Germany</td>\n",
       "      <td>Sognsvann</td>\n",
       "      <td>90</td>\n",
       "      <td>Masters</td>\n",
       "      <td>160</td>\n",
       "      <td>87.0</td>\n",
       "      <td>74</td>\n",
       "    </tr>\n",
       "    <tr>\n",
       "      <th>76</th>\n",
       "      <td>Mohammed</td>\n",
       "      <td>Salim</td>\n",
       "      <td>31</td>\n",
       "      <td>Male</td>\n",
       "      <td>Somali</td>\n",
       "      <td>Sognsvann</td>\n",
       "      <td>35</td>\n",
       "      <td>Masters</td>\n",
       "      <td>144</td>\n",
       "      <td>72.0</td>\n",
       "      <td>90</td>\n",
       "    </tr>\n",
       "  </tbody>\n",
       "</table>\n",
       "</div>"
      ],
      "text/plain": [
       "       fNAME    lNAME  Age  gender  country  residence  entryEXAM  \\\n",
       "72     Clara  Bernard   43  Female   France    Private         80   \n",
       "73    Julian  Nielsen   31    Male  Denmark  Sognsvann         90   \n",
       "74    Sophie    Brown   33  Female       UK  Sognsvann         96   \n",
       "75      Leon    Bauer   35    Male  Germany  Sognsvann         90   \n",
       "76  Mohammed    Salim   31    Male   Somali  Sognsvann         35   \n",
       "\n",
       "   prevEducation  studyHOURS  Python  DB  \n",
       "72     Bachelors         150    75.0  43  \n",
       "73       Masters         158    84.0  83  \n",
       "74       Masters         158    85.0  90  \n",
       "75       Masters         160    87.0  74  \n",
       "76       Masters         144    72.0  90  "
      ]
     },
     "execution_count": 5,
     "metadata": {},
     "output_type": "execute_result"
    }
   ],
   "source": [
    "df.tail()"
   ]
  },
  {
   "cell_type": "code",
   "execution_count": 6,
   "id": "1278e905-5112-4a97-9375-3fa6f5b66006",
   "metadata": {},
   "outputs": [
    {
     "name": "stdout",
     "output_type": "stream",
     "text": [
      "['Female' 'M' 'Male' 'F' 'female' 'male']\n"
     ]
    }
   ],
   "source": [
    "print(df['gender'].unique())"
   ]
  },
  {
   "cell_type": "code",
   "execution_count": 7,
   "id": "d2a85861-5ba5-4c89-972b-c157dfa6b2a8",
   "metadata": {},
   "outputs": [
    {
     "name": "stdout",
     "output_type": "stream",
     "text": [
      "             Age  entryEXAM  studyHOURS     Python          DB\n",
      "count  77.000000  77.000000   77.000000  75.000000   77.000000\n",
      "mean   35.207792  76.753247  149.714286  75.853333   69.467532\n",
      "std    10.341966  16.475784   12.743272  15.410328   17.033701\n",
      "min    21.000000  28.000000  114.000000  15.000000   30.000000\n",
      "25%    27.000000  69.000000  144.000000  71.000000   56.000000\n",
      "50%    33.000000  80.000000  156.000000  81.000000   71.000000\n",
      "75%    42.000000  90.000000  158.000000  85.000000   83.000000\n",
      "max    71.000000  98.000000  160.000000  91.000000  100.000000\n"
     ]
    }
   ],
   "source": [
    "print (df.describe())"
   ]
  },
  {
   "cell_type": "code",
   "execution_count": 10,
   "id": "7e46a5da-adb8-49f5-ac26-43be67e1f5e5",
   "metadata": {},
   "outputs": [
    {
     "name": "stdout",
     "output_type": "stream",
     "text": [
      "        fNAME      lNAME  Age  gender       country  residence  entryEXAM  \\\n",
      "0   Christina     Binger   44  Female        Norway    Private         72   \n",
      "1        Alex   Walekhwa   60    Male         Kenya    Private         79   \n",
      "2      Philip        Leo   25    Male        Uganda  Sognsvann         55   \n",
      "3       Shoni  Hlongwane   22  Female           Rsa  Sognsvann         40   \n",
      "4       Maria   Kedibone   23  Female  South Africa  Sognsvann         65   \n",
      "..        ...        ...  ...     ...           ...        ...        ...   \n",
      "72      Clara    Bernard   43  Female        France    Private         80   \n",
      "73     Julian    Nielsen   31    Male       Denmark  Sognsvann         90   \n",
      "74     Sophie      Brown   33  Female            UK  Sognsvann         96   \n",
      "75       Leon      Bauer   35    Male       Germany  Sognsvann         90   \n",
      "76   Mohammed      Salim   31    Male        Somali  Sognsvann         35   \n",
      "\n",
      "   prevEducation  studyHOURS  Python  DB  \n",
      "0        Masters         158    59.0  55  \n",
      "1        Diploma         150    60.0  75  \n",
      "2     HighSchool         130    74.0  50  \n",
      "3    High School         120     NaN  44  \n",
      "4    High School         122    91.0  80  \n",
      "..           ...         ...     ...  ..  \n",
      "72     Bachelors         150    75.0  43  \n",
      "73       Masters         158    84.0  83  \n",
      "74       Masters         158    85.0  90  \n",
      "75       Masters         160    87.0  74  \n",
      "76       Masters         144    72.0  90  \n",
      "\n",
      "[77 rows x 11 columns]\n"
     ]
    }
   ],
   "source": [
    "df['gender'] = df['gender'].str.strip().str.lower()\n",
    "df['gender'] = df['gender'].replace({'m': 'male', 'f': 'female'})\n",
    "df['gender'] = df['gender'].str.capitalize()\n",
    "print (df)"
   ]
  },
  {
   "cell_type": "code",
   "execution_count": 18,
   "id": "8f87a125-1a0c-4315-8636-f2cda041434f",
   "metadata": {},
   "outputs": [
    {
     "name": "stdout",
     "output_type": "stream",
     "text": [
      "        fNAME      lNAME  Age  gender       country  residence  entryEXAM  \\\n",
      "0   Christina     Binger   44  Female        Norway    Private         72   \n",
      "1        Alex   Walekhwa   60    Male         Kenya    Private         79   \n",
      "2      Philip        Leo   25    Male        Uganda  Sognsvann         55   \n",
      "3       Shoni  Hlongwane   22  Female  South Africa  Sognsvann         40   \n",
      "4       Maria   Kedibone   23  Female  South Africa  Sognsvann         65   \n",
      "..        ...        ...  ...     ...           ...        ...        ...   \n",
      "72      Clara    Bernard   43  Female        France    Private         80   \n",
      "73     Julian    Nielsen   31    Male       Denmark  Sognsvann         90   \n",
      "74     Sophie      Brown   33  Female            Uk  Sognsvann         96   \n",
      "75       Leon      Bauer   35    Male       Germany  Sognsvann         90   \n",
      "76   Mohammed      Salim   31    Male        Somali  Sognsvann         35   \n",
      "\n",
      "   prevEducation  studyHOURS  Python  DB  \n",
      "0        Masters         158    59.0  55  \n",
      "1        Diploma         150    60.0  75  \n",
      "2     HighSchool         130    74.0  50  \n",
      "3    High School         120     NaN  44  \n",
      "4    High School         122    91.0  80  \n",
      "..           ...         ...     ...  ..  \n",
      "72     Bachelors         150    75.0  43  \n",
      "73       Masters         158    84.0  83  \n",
      "74       Masters         158    85.0  90  \n",
      "75       Masters         160    87.0  74  \n",
      "76       Masters         144    72.0  90  \n",
      "\n",
      "[77 rows x 11 columns]\n"
     ]
    }
   ],
   "source": [
    "df['country'].unique()\n",
    "df['country'] = df['country'].str.strip().str.title()\n",
    "df['country'] = df['country'].replace({\n",
    "    'Rsa':'South Africa' ,\n",
    "    'Norge' : 'Norway',\n",
    "    'Norway' : 'Norway',\n",
    "    'norway': 'Norway',\n",
    "})\n",
    "print (df)"
   ]
  },
  {
   "cell_type": "code",
   "execution_count": 19,
   "id": "ba37de52-9795-4f35-9c02-3a23f32709b7",
   "metadata": {},
   "outputs": [
    {
     "data": {
      "text/plain": [
       "array(['Masters', 'Diploma', 'HighSchool', 'High School', 'Bachelors',\n",
       "       'Barrrchelors', 'diploma', 'DIPLOMA', 'Diplomaaa', 'Doctorate'],\n",
       "      dtype=object)"
      ]
     },
     "execution_count": 19,
     "metadata": {},
     "output_type": "execute_result"
    }
   ],
   "source": [
    "df['prevEducation'].unique()\n"
   ]
  },
  {
   "cell_type": "code",
   "execution_count": 21,
   "id": "5c85242a-fe6b-42dc-9a48-949047e4a0f3",
   "metadata": {},
   "outputs": [],
   "source": [
    "df['prevEducation'] = df['prevEducation'].str.strip().str.title()\n",
    "df['prevEducation'] = df['prevEducation'].replace({\n",
    "      'Barrrchelors': 'Bachelor',\n",
    "      'Bachelors': 'Bachelor',\n",
    "       'Diplomaaa': 'Diploma',\n",
    "     'Highschool': 'High School',\n",
    "     'High School': 'High School'})"
   ]
  },
  {
   "cell_type": "code",
   "execution_count": 22,
   "id": "a106d125-d268-41c3-89d1-83cbb8a77bfe",
   "metadata": {},
   "outputs": [
    {
     "data": {
      "text/plain": [
       "array(['Masters', 'Diploma', 'High School', 'Bachelor', 'Doctorate'],\n",
       "      dtype=object)"
      ]
     },
     "execution_count": 22,
     "metadata": {},
     "output_type": "execute_result"
    }
   ],
   "source": [
    "df['prevEducation'].unique()"
   ]
  },
  {
   "cell_type": "code",
   "execution_count": 24,
   "id": "25e30beb-e71a-4aa8-a5b2-4bea155cc56b",
   "metadata": {},
   "outputs": [
    {
     "data": {
      "text/plain": [
       "array(['Private', 'Sognsvann', 'BI Residence', 'BI-Residence',\n",
       "       'BIResidence', 'BI_Residence'], dtype=object)"
      ]
     },
     "execution_count": 24,
     "metadata": {},
     "output_type": "execute_result"
    }
   ],
   "source": [
    "df['residence'].unique()"
   ]
  },
  {
   "cell_type": "code",
   "execution_count": 25,
   "id": "823338aa-4c19-4b71-b592-51ffd1b358ca",
   "metadata": {},
   "outputs": [],
   "source": [
    "df['residence'] = df['residence'].str.replace('_', ' ').str.replace('-', ' ')\n",
    "df['residence'] = df['residence'].str.title()"
   ]
  },
  {
   "cell_type": "code",
   "execution_count": 26,
   "id": "4a96a050-bce0-4053-8ce3-83b5070fb97b",
   "metadata": {},
   "outputs": [
    {
     "data": {
      "text/plain": [
       "array(['Private', 'Sognsvann', 'Bi Residence', 'Biresidence'],\n",
       "      dtype=object)"
      ]
     },
     "execution_count": 26,
     "metadata": {},
     "output_type": "execute_result"
    }
   ],
   "source": [
    "df['residence'].unique()"
   ]
  },
  {
   "cell_type": "code",
   "execution_count": 27,
   "id": "ef00c13b-9170-41f3-b4ca-482c39b6357c",
   "metadata": {},
   "outputs": [
    {
     "data": {
      "text/plain": [
       "np.int64(0)"
      ]
     },
     "execution_count": 27,
     "metadata": {},
     "output_type": "execute_result"
    }
   ],
   "source": [
    " df.duplicated().sum()"
   ]
  },
  {
   "cell_type": "code",
   "execution_count": 28,
   "id": "25d63982-e50d-47e2-9b7c-978cac7183b2",
   "metadata": {},
   "outputs": [
    {
     "name": "stdout",
     "output_type": "stream",
     "text": [
      "fNAME            0\n",
      "lNAME            0\n",
      "Age              0\n",
      "gender           0\n",
      "country          0\n",
      "residence        0\n",
      "entryEXAM        0\n",
      "prevEducation    0\n",
      "studyHOURS       0\n",
      "Python           2\n",
      "DB               0\n",
      "dtype: int64\n"
     ]
    }
   ],
   "source": [
    "print(df.isnull().sum())"
   ]
  },
  {
   "cell_type": "code",
   "execution_count": 31,
   "id": "ec967015-396e-48dd-b314-99dee3804f4a",
   "metadata": {},
   "outputs": [
    {
     "name": "stdout",
     "output_type": "stream",
     "text": [
      "0     59.0\n",
      "1     60.0\n",
      "2     74.0\n",
      "3     81.0\n",
      "4     91.0\n",
      "      ... \n",
      "72    75.0\n",
      "73    84.0\n",
      "74    85.0\n",
      "75    87.0\n",
      "76    72.0\n",
      "Name: Python, Length: 77, dtype: float64\n",
      "0     55\n",
      "1     75\n",
      "2     50\n",
      "3     44\n",
      "4     80\n",
      "      ..\n",
      "72    43\n",
      "73    83\n",
      "74    90\n",
      "75    74\n",
      "76    90\n",
      "Name: DB, Length: 77, dtype: int64\n"
     ]
    }
   ],
   "source": [
    "df['Python'] = df['Python'].fillna(df['Python'].median())\n",
    "print (df['Python'])\n",
    "df['DB'] = df['DB'].fillna(df['DB'].median())\n",
    "print (df['DB'])"
   ]
  },
  {
   "cell_type": "code",
   "execution_count": 32,
   "id": "87ef4de2-4ecc-48ea-9450-1a64c254031a",
   "metadata": {},
   "outputs": [
    {
     "name": "stdout",
     "output_type": "stream",
     "text": [
      "0     59.0\n",
      "1     60.0\n",
      "2     74.0\n",
      "3     81.0\n",
      "4     91.0\n",
      "      ... \n",
      "72    75.0\n",
      "73    84.0\n",
      "74    85.0\n",
      "75    87.0\n",
      "76    72.0\n",
      "Name: Python, Length: 77, dtype: float64\n",
      "0     55\n",
      "1     75\n",
      "2     50\n",
      "3     44\n",
      "4     80\n",
      "      ..\n",
      "72    43\n",
      "73    83\n",
      "74    90\n",
      "75    74\n",
      "76    90\n",
      "Name: DB, Length: 77, dtype: int64\n"
     ]
    }
   ],
   "source": [
    "df['Python'] = df['Python'].fillna(df['Python'].mean())\n",
    "print (df['Python'])\n",
    "df['DB'] = df['DB'].fillna(df['DB'].mean())\n",
    "print (df['DB'])"
   ]
  },
  {
   "cell_type": "code",
   "execution_count": 30,
   "id": "71b0a40b-ee6e-4b4a-b4cc-98083ef5627e",
   "metadata": {},
   "outputs": [
    {
     "name": "stdout",
     "output_type": "stream",
     "text": [
      "fNAME            0\n",
      "lNAME            0\n",
      "Age              0\n",
      "gender           0\n",
      "country          0\n",
      "residence        0\n",
      "entryEXAM        0\n",
      "prevEducation    0\n",
      "studyHOURS       0\n",
      "Python           0\n",
      "DB               0\n",
      "dtype: int64\n"
     ]
    }
   ],
   "source": [
    "print(df.isnull().sum())"
   ]
  },
  {
   "cell_type": "code",
   "execution_count": null,
   "id": "71b17343-7593-4b4b-a255-08784152dcf3",
   "metadata": {},
   "outputs": [],
   "source": []
  }
 ],
 "metadata": {
  "kernelspec": {
   "display_name": "Python 3 (ipykernel)",
   "language": "python",
   "name": "python3"
  },
  "language_info": {
   "codemirror_mode": {
    "name": "ipython",
    "version": 3
   },
   "file_extension": ".py",
   "mimetype": "text/x-python",
   "name": "python",
   "nbconvert_exporter": "python",
   "pygments_lexer": "ipython3",
   "version": "3.13.5"
  }
 },
 "nbformat": 4,
 "nbformat_minor": 5
}
